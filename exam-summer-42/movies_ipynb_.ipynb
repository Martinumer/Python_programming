{
  "nbformat": 4,
  "nbformat_minor": 5,
  "metadata": {
    "kernelspec": {
      "display_name": "'Python Interactive'",
      "language": "python",
      "name": "0f76b137-6db6-473c-ac2a-022c61fac5f5"
    },
    "language_info": {
      "codemirror_mode": {
        "name": "ipython",
        "version": 3
      },
      "file_extension": ".py",
      "mimetype": "text/x-python",
      "name": "python",
      "nbconvert_exporter": "python",
      "pygments_lexer": "ipython3",
      "version": "3.7.3"
    },
    "colab": {
      "name": "Копия блокнота \"Movies.ipynb\"",
      "provenance": [],
      "collapsed_sections": []
    }
  },
  "cells": [
    {
      "cell_type": "code",
      "metadata": {
        "id": "kzPqAEK7THCm"
      },
      "source": [
        "import pandas as pd\n",
        "import io\n",
        "%matplotlib inline\n",
        "import numpy as np\n",
        "import matplotlib.pyplot as plt\n",
        "import os"
      ],
      "id": "kzPqAEK7THCm",
      "execution_count": 23,
      "outputs": []
    },
    {
      "cell_type": "code",
      "metadata": {
        "id": "lpmSVMwyTn8x"
      },
      "source": [
        "df = pd.read_csv(\"tmdb-movies.csv\")"
      ],
      "id": "lpmSVMwyTn8x",
      "execution_count": 33,
      "outputs": []
    },
    {
      "cell_type": "code",
      "metadata": {
        "colab": {
          "base_uri": "https://localhost:8080/",
          "height": 610
        },
        "id": "R1iw22TuTx74",
        "outputId": "c609aa23-94e6-4f00-b2c0-13617f6a946d"
      },
      "source": [
        "df.head()"
      ],
      "id": "R1iw22TuTx74",
      "execution_count": 25,
      "outputs": [
        {
          "output_type": "execute_result",
          "data": {
            "text/html": [
              "<div>\n",
              "<style scoped>\n",
              "    .dataframe tbody tr th:only-of-type {\n",
              "        vertical-align: middle;\n",
              "    }\n",
              "\n",
              "    .dataframe tbody tr th {\n",
              "        vertical-align: top;\n",
              "    }\n",
              "\n",
              "    .dataframe thead th {\n",
              "        text-align: right;\n",
              "    }\n",
              "</style>\n",
              "<table border=\"1\" class=\"dataframe\">\n",
              "  <thead>\n",
              "    <tr style=\"text-align: right;\">\n",
              "      <th></th>\n",
              "      <th>id</th>\n",
              "      <th>imdb_id</th>\n",
              "      <th>popularity</th>\n",
              "      <th>budget</th>\n",
              "      <th>revenue</th>\n",
              "      <th>original_title</th>\n",
              "      <th>cast</th>\n",
              "      <th>homepage</th>\n",
              "      <th>director</th>\n",
              "      <th>tagline</th>\n",
              "      <th>keywords</th>\n",
              "      <th>overview</th>\n",
              "      <th>runtime</th>\n",
              "      <th>genres</th>\n",
              "      <th>production_companies</th>\n",
              "      <th>release_date</th>\n",
              "      <th>vote_count</th>\n",
              "      <th>vote_average</th>\n",
              "      <th>release_year</th>\n",
              "      <th>budget_adj</th>\n",
              "      <th>revenue_adj</th>\n",
              "    </tr>\n",
              "  </thead>\n",
              "  <tbody>\n",
              "    <tr>\n",
              "      <th>0</th>\n",
              "      <td>135397</td>\n",
              "      <td>tt0369610</td>\n",
              "      <td>32.985763</td>\n",
              "      <td>150000000</td>\n",
              "      <td>1513528810</td>\n",
              "      <td>Jurassic World</td>\n",
              "      <td>Chris Pratt|Bryce Dallas Howard|Irrfan Khan|Vi...</td>\n",
              "      <td>http://www.jurassicworld.com/</td>\n",
              "      <td>Colin Trevorrow</td>\n",
              "      <td>The park is open.</td>\n",
              "      <td>monster|dna|tyrannosaurus rex|velociraptor|island</td>\n",
              "      <td>Twenty-two years after the events of Jurassic ...</td>\n",
              "      <td>124</td>\n",
              "      <td>Action|Adventure|Science Fiction|Thriller</td>\n",
              "      <td>Universal Studios|Amblin Entertainment|Legenda...</td>\n",
              "      <td>6/9/15</td>\n",
              "      <td>5562</td>\n",
              "      <td>6.5</td>\n",
              "      <td>2015</td>\n",
              "      <td>1.379999e+08</td>\n",
              "      <td>1.392446e+09</td>\n",
              "    </tr>\n",
              "    <tr>\n",
              "      <th>1</th>\n",
              "      <td>76341</td>\n",
              "      <td>tt1392190</td>\n",
              "      <td>28.419936</td>\n",
              "      <td>150000000</td>\n",
              "      <td>378436354</td>\n",
              "      <td>Mad Max: Fury Road</td>\n",
              "      <td>Tom Hardy|Charlize Theron|Hugh Keays-Byrne|Nic...</td>\n",
              "      <td>http://www.madmaxmovie.com/</td>\n",
              "      <td>George Miller</td>\n",
              "      <td>What a Lovely Day.</td>\n",
              "      <td>future|chase|post-apocalyptic|dystopia|australia</td>\n",
              "      <td>An apocalyptic story set in the furthest reach...</td>\n",
              "      <td>120</td>\n",
              "      <td>Action|Adventure|Science Fiction|Thriller</td>\n",
              "      <td>Village Roadshow Pictures|Kennedy Miller Produ...</td>\n",
              "      <td>5/13/15</td>\n",
              "      <td>6185</td>\n",
              "      <td>7.1</td>\n",
              "      <td>2015</td>\n",
              "      <td>1.379999e+08</td>\n",
              "      <td>3.481613e+08</td>\n",
              "    </tr>\n",
              "    <tr>\n",
              "      <th>2</th>\n",
              "      <td>262500</td>\n",
              "      <td>tt2908446</td>\n",
              "      <td>13.112507</td>\n",
              "      <td>110000000</td>\n",
              "      <td>295238201</td>\n",
              "      <td>Insurgent</td>\n",
              "      <td>Shailene Woodley|Theo James|Kate Winslet|Ansel...</td>\n",
              "      <td>http://www.thedivergentseries.movie/#insurgent</td>\n",
              "      <td>Robert Schwentke</td>\n",
              "      <td>One Choice Can Destroy You</td>\n",
              "      <td>based on novel|revolution|dystopia|sequel|dyst...</td>\n",
              "      <td>Beatrice Prior must confront her inner demons ...</td>\n",
              "      <td>119</td>\n",
              "      <td>Adventure|Science Fiction|Thriller</td>\n",
              "      <td>Summit Entertainment|Mandeville Films|Red Wago...</td>\n",
              "      <td>3/18/15</td>\n",
              "      <td>2480</td>\n",
              "      <td>6.3</td>\n",
              "      <td>2015</td>\n",
              "      <td>1.012000e+08</td>\n",
              "      <td>2.716190e+08</td>\n",
              "    </tr>\n",
              "    <tr>\n",
              "      <th>3</th>\n",
              "      <td>140607</td>\n",
              "      <td>tt2488496</td>\n",
              "      <td>11.173104</td>\n",
              "      <td>200000000</td>\n",
              "      <td>2068178225</td>\n",
              "      <td>Star Wars: The Force Awakens</td>\n",
              "      <td>Harrison Ford|Mark Hamill|Carrie Fisher|Adam D...</td>\n",
              "      <td>http://www.starwars.com/films/star-wars-episod...</td>\n",
              "      <td>J.J. Abrams</td>\n",
              "      <td>Every generation has a story.</td>\n",
              "      <td>android|spaceship|jedi|space opera|3d</td>\n",
              "      <td>Thirty years after defeating the Galactic Empi...</td>\n",
              "      <td>136</td>\n",
              "      <td>Action|Adventure|Science Fiction|Fantasy</td>\n",
              "      <td>Lucasfilm|Truenorth Productions|Bad Robot</td>\n",
              "      <td>12/15/15</td>\n",
              "      <td>5292</td>\n",
              "      <td>7.5</td>\n",
              "      <td>2015</td>\n",
              "      <td>1.839999e+08</td>\n",
              "      <td>1.902723e+09</td>\n",
              "    </tr>\n",
              "    <tr>\n",
              "      <th>4</th>\n",
              "      <td>168259</td>\n",
              "      <td>tt2820852</td>\n",
              "      <td>9.335014</td>\n",
              "      <td>190000000</td>\n",
              "      <td>1506249360</td>\n",
              "      <td>Furious 7</td>\n",
              "      <td>Vin Diesel|Paul Walker|Jason Statham|Michelle ...</td>\n",
              "      <td>http://www.furious7.com/</td>\n",
              "      <td>James Wan</td>\n",
              "      <td>Vengeance Hits Home</td>\n",
              "      <td>car race|speed|revenge|suspense|car</td>\n",
              "      <td>Deckard Shaw seeks revenge against Dominic Tor...</td>\n",
              "      <td>137</td>\n",
              "      <td>Action|Crime|Thriller</td>\n",
              "      <td>Universal Pictures|Original Film|Media Rights ...</td>\n",
              "      <td>4/1/15</td>\n",
              "      <td>2947</td>\n",
              "      <td>7.3</td>\n",
              "      <td>2015</td>\n",
              "      <td>1.747999e+08</td>\n",
              "      <td>1.385749e+09</td>\n",
              "    </tr>\n",
              "  </tbody>\n",
              "</table>\n",
              "</div>"
            ],
            "text/plain": [
              "       id    imdb_id  popularity  ...  release_year    budget_adj   revenue_adj\n",
              "0  135397  tt0369610   32.985763  ...          2015  1.379999e+08  1.392446e+09\n",
              "1   76341  tt1392190   28.419936  ...          2015  1.379999e+08  3.481613e+08\n",
              "2  262500  tt2908446   13.112507  ...          2015  1.012000e+08  2.716190e+08\n",
              "3  140607  tt2488496   11.173104  ...          2015  1.839999e+08  1.902723e+09\n",
              "4  168259  tt2820852    9.335014  ...          2015  1.747999e+08  1.385749e+09\n",
              "\n",
              "[5 rows x 21 columns]"
            ]
          },
          "metadata": {
            "tags": []
          },
          "execution_count": 25
        }
      ]
    },
    {
      "cell_type": "code",
      "metadata": {
        "id": "architectural-petroleum"
      },
      "source": [
        "# 0. Найдите вашего любимого актера, режиссера, фильм и жанр.\n",
        "# Том Кукуруз - Tom Cruise, Кристофер Нолан - Christopher Nolan,\n",
        "# Парк Юрского Периода - Jurrasic Park, комедии - Comedy\n",
        "# В вопросах у которых стоит значок ❤︎ нужно дополнительно использовать вашего любимого актера, фильм и т.п."
      ],
      "id": "architectural-petroleum",
      "execution_count": null,
      "outputs": []
    },
    {
      "cell_type": "code",
      "metadata": {
        "id": "HJbnp7gUSlnx",
        "colab": {
          "base_uri": "https://localhost:8080/"
        },
        "outputId": "4eabd04f-236f-46bb-957e-55fc1bad3363"
      },
      "source": [
        "print(df[df['original_title'] == 'Thor']['cast'])\n",
        "print(df[df['original_title'] == 'Thor']['director'])\n",
        "print(df[df['original_title'] == 'Thor']['genres'])"
      ],
      "id": "HJbnp7gUSlnx",
      "execution_count": 30,
      "outputs": [
        {
          "output_type": "stream",
          "text": [
            "3377    Chris Hemsworth|Natalie Portman|Tom Hiddleston...\n",
            "Name: cast, dtype: object\n",
            "3377    Kenneth Branagh\n",
            "Name: director, dtype: object\n",
            "3377    Adventure|Fantasy|Action\n",
            "Name: genres, dtype: object\n"
          ],
          "name": "stdout"
        }
      ]
    },
    {
      "cell_type": "code",
      "metadata": {
        "id": "xUq3pLSSXUGn"
      },
      "source": [
        ""
      ],
      "id": "xUq3pLSSXUGn",
      "execution_count": null,
      "outputs": []
    },
    {
      "cell_type": "code",
      "metadata": {
        "id": "LmUkvQZCOXGe"
      },
      "source": [
        "# ❤︎ Фильм - Thor\n",
        "# ❤︎ Актер - Tom Hiddleston\n",
        "# ❤︎ Режиссер - Kenneth Branagh\n",
        "# ❤︎ Жанр - Fantasy"
      ],
      "id": "LmUkvQZCOXGe",
      "execution_count": null,
      "outputs": []
    },
    {
      "cell_type": "code",
      "metadata": {
        "id": "angry-testament"
      },
      "source": [
        "# 1. Какой фильм имеет больше всего оценок? (❤︎)"
      ],
      "id": "angry-testament",
      "execution_count": null,
      "outputs": []
    },
    {
      "cell_type": "code",
      "metadata": {
        "colab": {
          "base_uri": "https://localhost:8080/"
        },
        "id": "E3-00mevYcQX",
        "outputId": "322fe601-e2ae-49a0-9df2-d8ff54233ad1"
      },
      "source": [
        "df1 = df.groupby('vote_count')[['original_title']].max()\n",
        "print(df1)"
      ],
      "id": "E3-00mevYcQX",
      "execution_count": 41,
      "outputs": [
        {
          "output_type": "stream",
          "text": [
            "              original_title\n",
            "vote_count                  \n",
            "10            í˜•ì‚¬ Duelist\n",
            "11             ì•„ê¸°ì™€ ë‚˜\n",
            "12            ìž‘ì—…ì˜ ì •ì„\n",
            "13                  ìºì¹˜ë¯¸\n",
            "14           Zombie Massacre\n",
            "...                      ...\n",
            "7375        Django Unchained\n",
            "8432         The Dark Knight\n",
            "8458                  Avatar\n",
            "8903            The Avengers\n",
            "9767               Inception\n",
            "\n",
            "[1289 rows x 1 columns]\n"
          ],
          "name": "stdout"
        }
      ]
    },
    {
      "cell_type": "code",
      "metadata": {
        "colab": {
          "base_uri": "https://localhost:8080/"
        },
        "id": "1FbpfpFbZ_Zi",
        "outputId": "432f8592-f3da-414d-f064-994bff501b04"
      },
      "source": [
        "print(df[df['original_title'] == 'Thor']['vote_count'])"
      ],
      "id": "1FbpfpFbZ_Zi",
      "execution_count": 42,
      "outputs": [
        {
          "output_type": "stream",
          "text": [
            "3377    4485\n",
            "Name: vote_count, dtype: int64\n"
          ],
          "name": "stdout"
        }
      ]
    },
    {
      "cell_type": "code",
      "metadata": {
        "id": "comparable-sword"
      },
      "source": [
        "# 2. Какой фильм, а также какого жанра и года выпуска, имеет самые высокие оценки? (❤︎)"
      ],
      "id": "comparable-sword",
      "execution_count": null,
      "outputs": []
    },
    {
      "cell_type": "code",
      "metadata": {
        "colab": {
          "base_uri": "https://localhost:8080/"
        },
        "id": "bzO5VpxRcA2c",
        "outputId": "f8995e8c-4b9c-4a31-bb59-98ce652825f3"
      },
      "source": [
        "max_rate = df['vote_average'].max()\n",
        "print(df[df['vote_average'] == max_rate]['original_title'])"
      ],
      "id": "bzO5VpxRcA2c",
      "execution_count": 51,
      "outputs": [
        {
          "output_type": "stream",
          "text": [
            "3894    The Story of Film: An Odyssey\n",
            "Name: original_title, dtype: object\n"
          ],
          "name": "stdout"
        }
      ]
    },
    {
      "cell_type": "code",
      "metadata": {
        "colab": {
          "base_uri": "https://localhost:8080/"
        },
        "id": "pgpShkZSe1yC",
        "outputId": "98283080-c63b-464f-dbad-67cff4af185d"
      },
      "source": [
        "print(df[df['original_title'] == 'Thor']['vote_average'])"
      ],
      "id": "pgpShkZSe1yC",
      "execution_count": 52,
      "outputs": [
        {
          "output_type": "stream",
          "text": [
            "3377    6.5\n",
            "Name: vote_average, dtype: float64\n"
          ],
          "name": "stdout"
        }
      ]
    },
    {
      "cell_type": "code",
      "metadata": {
        "id": "closing-undergraduate"
      },
      "source": [
        "# 3. Какой фильм самый короткий/длинный по продолжительности? (❤︎)"
      ],
      "id": "closing-undergraduate",
      "execution_count": null,
      "outputs": []
    },
    {
      "cell_type": "code",
      "metadata": {
        "colab": {
          "base_uri": "https://localhost:8080/"
        },
        "id": "22tX7PmocdaC",
        "outputId": "4dc956e8-0c86-4f0b-f91f-c59446b5726c"
      },
      "source": [
        "max_runtime = df['runtime'].max()\n",
        "print(df[df['runtime'] == max_runtime]['original_title'])"
      ],
      "id": "22tX7PmocdaC",
      "execution_count": 58,
      "outputs": [
        {
          "output_type": "stream",
          "text": [
            "3894    The Story of Film: An Odyssey\n",
            "Name: original_title, dtype: object\n"
          ],
          "name": "stdout"
        }
      ]
    },
    {
      "cell_type": "code",
      "metadata": {
        "colab": {
          "base_uri": "https://localhost:8080/"
        },
        "id": "UuCIL196doVZ",
        "outputId": "8ce99119-7009-41c8-bd08-9174951610b3"
      },
      "source": [
        "min_runtime = df['runtime'].min()\n",
        "print(df[df['runtime'] == min_runtime]['original_title'])"
      ],
      "id": "UuCIL196doVZ",
      "execution_count": 47,
      "outputs": [
        {
          "output_type": "stream",
          "text": [
            "92           Mythica: The Necromancer\n",
            "334                           Ronaldo\n",
            "410                    Anarchy Parlor\n",
            "445     The Exorcism of Molly Hartley\n",
            "486                If There Be Thorns\n",
            "595                         Deep Dark\n",
            "616                      The Outfield\n",
            "1241                        Dance-Off\n",
            "1289                        Treehouse\n",
            "1293                         Tim Maia\n",
            "1849                     Spectacular!\n",
            "2315             Listen to Your Heart\n",
            "2370                  Freshman Father\n",
            "3329         Grande, grosso e Verdone\n",
            "3794             Toi, moi, les autres\n",
            "3857                         Cell 213\n",
            "3884                           eCupid\n",
            "4063           Madea's Family Reunion\n",
            "4138               A Time for Dancing\n",
            "4829                             Rags\n",
            "4944              How to Fall in Love\n",
            "5216            Madea's Class Reunion\n",
            "5695                 Skinwalker Ranch\n",
            "5920           The Food Guide to Love\n",
            "5938                      Go Goa Gone\n",
            "5992                 Amiche da morire\n",
            "6040            The Vatican Exorcisms\n",
            "6383         The 12 Dogs of Christmas\n",
            "6552                  Quatre Ã©toiles\n",
            "6934                    Jean-Philippe\n",
            "8874                  Mission Kashmir\n",
            "Name: original_title, dtype: object\n"
          ],
          "name": "stdout"
        }
      ]
    },
    {
      "cell_type": "code",
      "metadata": {
        "colab": {
          "base_uri": "https://localhost:8080/"
        },
        "id": "RtY2BCs0fHMC",
        "outputId": "57ea4793-87ae-4d54-c45e-d2cf41ce8d75"
      },
      "source": [
        "print(df[df['original_title'] == 'Thor']['runtime'])"
      ],
      "id": "RtY2BCs0fHMC",
      "execution_count": 53,
      "outputs": [
        {
          "output_type": "stream",
          "text": [
            "3377    115\n",
            "Name: runtime, dtype: int64\n"
          ],
          "name": "stdout"
        }
      ]
    },
    {
      "cell_type": "code",
      "metadata": {
        "id": "czech-association"
      },
      "source": [
        "# 4. Сколько всего киностудий (product_companies)?"
      ],
      "id": "czech-association",
      "execution_count": null,
      "outputs": []
    },
    {
      "cell_type": "code",
      "metadata": {
        "colab": {
          "base_uri": "https://localhost:8080/"
        },
        "id": "oACmE_K0eNVX",
        "outputId": "757bb904-3bc6-4a73-a625-78681e3a77dd"
      },
      "source": [
        "print(df['production_companies'].nunique())"
      ],
      "id": "oACmE_K0eNVX",
      "execution_count": 55,
      "outputs": [
        {
          "output_type": "stream",
          "text": [
            "7445\n"
          ],
          "name": "stdout"
        }
      ]
    },
    {
      "cell_type": "code",
      "metadata": {
        "id": "ahead-subsection"
      },
      "source": [
        "# 5. Какое количество фильмов сняла каждая из киностудий?"
      ],
      "id": "ahead-subsection",
      "execution_count": null,
      "outputs": []
    },
    {
      "cell_type": "code",
      "metadata": {
        "id": "kr2FTHBXfl6r"
      },
      "source": [
        ""
      ],
      "id": "kr2FTHBXfl6r",
      "execution_count": null,
      "outputs": []
    },
    {
      "cell_type": "code",
      "metadata": {
        "id": "intensive-limit"
      },
      "source": [
        "# 6. Сколько фильмов было снято одной киностудией, двумя, тремя и т.д.?"
      ],
      "id": "intensive-limit",
      "execution_count": null,
      "outputs": []
    },
    {
      "cell_type": "code",
      "metadata": {
        "colab": {
          "base_uri": "https://localhost:8080/"
        },
        "id": "V5Wvnc1cpfQu",
        "outputId": "5c600875-2c41-435e-aa08-8631ef25c9ec"
      },
      "source": [
        "df[\"production_companies\"].str.split(\"|\", expand=True).count(axis=1).value_counts()"
      ],
      "id": "V5Wvnc1cpfQu",
      "execution_count": 65,
      "outputs": [
        {
          "output_type": "execute_result",
          "data": {
            "text/plain": [
              "1    3440\n",
              "2    2580\n",
              "3    1763\n",
              "5    1126\n",
              "0    1030\n",
              "4     927\n",
              "dtype: int64"
            ]
          },
          "metadata": {
            "tags": []
          },
          "execution_count": 65
        }
      ]
    },
    {
      "cell_type": "code",
      "metadata": {
        "id": "upper-consultation"
      },
      "source": [
        "# 7. Какая средняя оценка у фильмов с вашим любимым актером?"
      ],
      "id": "upper-consultation",
      "execution_count": null,
      "outputs": []
    },
    {
      "cell_type": "code",
      "metadata": {
        "colab": {
          "base_uri": "https://localhost:8080/"
        },
        "id": "6fzsWTcPfz2H",
        "outputId": "335b8bf5-19c5-419f-9eb4-68d5f86eab62"
      },
      "source": [
        "vote_av = np.isin(df[\"cast\"].str.split(\"|\", expand=True).to_numpy(), \"Tom Hiddleston\")\n",
        "df.iloc[vote_av][\"vote_average\"].mean()"
      ],
      "id": "6fzsWTcPfz2H",
      "execution_count": 62,
      "outputs": [
        {
          "output_type": "execute_result",
          "data": {
            "text/plain": [
              "6.311111111111111"
            ]
          },
          "metadata": {
            "tags": []
          },
          "execution_count": 62
        }
      ]
    },
    {
      "cell_type": "code",
      "metadata": {
        "id": "fitted-sentence"
      },
      "source": [
        "# 7.1. Найдите актера, который снимался чаще всего и ответьте на вопрос в каких жанрах? (❤︎)"
      ],
      "id": "fitted-sentence",
      "execution_count": null,
      "outputs": []
    },
    {
      "cell_type": "code",
      "metadata": {
        "id": "elder-premium"
      },
      "source": [
        "# 8. Сборы какой кинокомпании самые высокие за последние 5 лет (с 2010 по 2015)?"
      ],
      "id": "elder-premium",
      "execution_count": null,
      "outputs": []
    },
    {
      "cell_type": "code",
      "metadata": {
        "colab": {
          "base_uri": "https://localhost:8080/"
        },
        "id": "W6BQ58Xbg4Yy",
        "outputId": "1c2e55bb-5e57-48a8-df44-0783d5794f94"
      },
      "source": [
        "small_df = df[['production_companies', 'release_year', 'budget_adj']]\n",
        "result = small_df[(small_df['release_year'] >= 2010) & (small_df['release_year'] <= 2015)]\n",
        "max_b = small_df['budget_adj'].max()\n",
        "print(small_df[small_df['budget_adj'] == max_b]['production_companies'])"
      ],
      "id": "W6BQ58Xbg4Yy",
      "execution_count": 56,
      "outputs": [
        {
          "output_type": "stream",
          "text": [
            "2244    Boram Entertainment Inc.\n",
            "Name: production_companies, dtype: object\n"
          ],
          "name": "stdout"
        }
      ]
    },
    {
      "cell_type": "code",
      "metadata": {
        "id": "color-frontier"
      },
      "source": [
        "# 9. Топ-10 режиссеров и актеров с самым высоким в среднем рейтингом фильмов?"
      ],
      "id": "color-frontier",
      "execution_count": null,
      "outputs": []
    },
    {
      "cell_type": "code",
      "metadata": {
        "id": "89HKAJOniZ_f"
      },
      "source": [
        ""
      ],
      "id": "89HKAJOniZ_f",
      "execution_count": null,
      "outputs": []
    },
    {
      "cell_type": "code",
      "metadata": {
        "id": "dirty-letters"
      },
      "source": [
        "# 10. Фильмы в каком жанре в среднем имеют самые высокие оценки? (❤︎)"
      ],
      "id": "dirty-letters",
      "execution_count": null,
      "outputs": []
    },
    {
      "cell_type": "code",
      "metadata": {
        "colab": {
          "base_uri": "https://localhost:8080/"
        },
        "id": "BN_pucLLo-hA",
        "outputId": "26303639-39f5-4934-cfb7-f11e96982124"
      },
      "source": [
        ""
      ],
      "id": "BN_pucLLo-hA",
      "execution_count": 63,
      "outputs": [
        {
          "output_type": "execute_result",
          "data": {
            "text/plain": [
              "woman director                                        134\n",
              "independent film                                       82\n",
              "sport                                                  25\n",
              "musical                                                24\n",
              "duringcreditsstinger                                   24\n",
              "                                                     ... \n",
              "moon|florida|nasa|spaceman|race against time            1\n",
              "vampire|dracula|satanist|hammer horror|van helsing      1\n",
              "europe|iceland|escape|disaster film|volcanic ash        1\n",
              "psychic power|salesman                                  1\n",
              "police|high school|undercover cop                       1\n",
              "Name: keywords, Length: 8804, dtype: int64"
            ]
          },
          "metadata": {
            "tags": []
          },
          "execution_count": 63
        }
      ]
    },
    {
      "cell_type": "code",
      "metadata": {
        "id": "confused-louisiana"
      },
      "source": [
        "# 11. Топ-10 ключевых слов (keywords)?"
      ],
      "id": "confused-louisiana",
      "execution_count": null,
      "outputs": []
    },
    {
      "cell_type": "code",
      "metadata": {
        "colab": {
          "base_uri": "https://localhost:8080/"
        },
        "id": "5mk1DUQ-pQwo",
        "outputId": "c429042b-0efe-4dd3-a9c9-6d2ce4c7cf31"
      },
      "source": [
        "k = df['keywords'].str.split(\"|\", expand=True).dropna().to_numpy().ravel()\n",
        "pd.Series(k).value_counts().head(10)"
      ],
      "id": "5mk1DUQ-pQwo",
      "execution_count": 72,
      "outputs": [
        {
          "output_type": "execute_result",
          "data": {
            "text/plain": [
              "sex                 258\n",
              "based on novel      243\n",
              "independent film    175\n",
              "murder              157\n",
              "nudity              150\n",
              "female nudity       142\n",
              "new york            132\n",
              "prison              111\n",
              "london              107\n",
              "sport               103\n",
              "dtype: int64"
            ]
          },
          "metadata": {
            "tags": []
          },
          "execution_count": 72
        }
      ]
    },
    {
      "cell_type": "code",
      "metadata": {
        "id": "realistic-application"
      },
      "source": [
        "# 12. Растет ли бюджет фильмов с каждым годом? (постройте график)"
      ],
      "id": "realistic-application",
      "execution_count": null,
      "outputs": []
    },
    {
      "cell_type": "code",
      "metadata": {
        "colab": {
          "base_uri": "https://localhost:8080/",
          "height": 308
        },
        "id": "bMabQkN6kouV",
        "outputId": "2a669ca7-ad12-42cd-9293-07b1d549c0ee"
      },
      "source": [
        "df.groupby('release_year')[['budget']].mean().plot()"
      ],
      "id": "bMabQkN6kouV",
      "execution_count": 60,
      "outputs": [
        {
          "output_type": "execute_result",
          "data": {
            "text/plain": [
              "<matplotlib.axes._subplots.AxesSubplot at 0x7f3ddc7fef90>"
            ]
          },
          "metadata": {
            "tags": []
          },
          "execution_count": 60
        },
        {
          "output_type": "display_data",
          "data": {
            "image/png": "[encoded data removed]",
            "text/plain": [
              "<Figure size 432x288 with 1 Axes>"
            ]
          },
          "metadata": {
            "tags": [],
            "needs_background": "light"
          }
        }
      ]
    },
    {
      "cell_type": "markdown",
      "metadata": {
        "id": "eBGGMysllL3a"
      },
      "source": [
        "По графику видно, что бюджет фильмов рос до 2000 года, дальше начал падать"
      ],
      "id": "eBGGMysllL3a"
    },
    {
      "cell_type": "code",
      "metadata": {
        "id": "alien-motion"
      },
      "source": [
        "# 13. Что больше всего влияет на доходы фильмов?"
      ],
      "id": "alien-motion",
      "execution_count": null,
      "outputs": []
    },
    {
      "cell_type": "code",
      "metadata": {
        "id": "external-calculator"
      },
      "source": [
        "# 14. Топ-5 самых прибильных и убыточных фильмов (по соотношению бюджета к доходам)"
      ],
      "id": "external-calculator",
      "execution_count": null,
      "outputs": []
    },
    {
      "cell_type": "code",
      "metadata": {
        "id": "alleged-enforcement"
      },
      "source": [
        "# 15. Как изменялось количество снимаемых фильмов в жанре \"Drama\" с течением времени? (Постройте график) ❤︎"
      ],
      "id": "alleged-enforcement",
      "execution_count": null,
      "outputs": []
    },
    {
      "cell_type": "code",
      "metadata": {
        "id": "funded-small"
      },
      "source": [
        "# 16. Топ-10 актеров, которые снялись в наибольшем количестве фильмов"
      ],
      "id": "funded-small",
      "execution_count": null,
      "outputs": []
    },
    {
      "cell_type": "code",
      "metadata": {
        "id": "casual-scoop"
      },
      "source": [
        "# 17. Средний рейтинг фильмов по годам (постройте график)"
      ],
      "id": "casual-scoop",
      "execution_count": null,
      "outputs": []
    },
    {
      "cell_type": "code",
      "metadata": {
        "id": "frozen-sister"
      },
      "source": [
        "# 18. Постройте график распределения жанров (столько-то процентов это боевики, столько-то комедии и т.п.)"
      ],
      "id": "frozen-sister",
      "execution_count": null,
      "outputs": []
    },
    {
      "cell_type": "code",
      "metadata": {
        "id": "historic-defeat"
      },
      "source": [
        "# 19. Какой режиссер чаще всего снимал одного и того же актера?"
      ],
      "id": "historic-defeat",
      "execution_count": null,
      "outputs": []
    },
    {
      "cell_type": "code",
      "metadata": {
        "id": "consecutive-selling"
      },
      "source": [
        "# 20. Какая пара жанров чаще всего встречается вместе?"
      ],
      "id": "consecutive-selling",
      "execution_count": null,
      "outputs": []
    },
    {
      "cell_type": "code",
      "metadata": {
        "id": "occasional-hampshire"
      },
      "source": [
        "# 21. Топ-10 ключевых слов с самым высоким рейтингом/бюджетом/доходами фильмов (слово - срейдний рейтинг/бюджет/доходы)"
      ],
      "id": "occasional-hampshire",
      "execution_count": null,
      "outputs": []
    },
    {
      "cell_type": "code",
      "metadata": {
        "id": "early-physiology"
      },
      "source": [
        "# 22. Постройте и визуализируйте граф связей между актерами (как это было в работе АПИ ВК)."
      ],
      "id": "early-physiology",
      "execution_count": null,
      "outputs": []
    }
  ]
}